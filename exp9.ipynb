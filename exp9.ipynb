{
  "nbformat": 4,
  "nbformat_minor": 0,
  "metadata": {
    "colab": {
      "provenance": [],
      "authorship_tag": "ABX9TyP+ZQAsSdI/2p51EvUDEwqi",
      "include_colab_link": true
    },
    "kernelspec": {
      "name": "python3",
      "display_name": "Python 3"
    },
    "language_info": {
      "name": "python"
    }
  },
  "cells": [
    {
      "cell_type": "markdown",
      "metadata": {
        "id": "view-in-github",
        "colab_type": "text"
      },
      "source": [
        "<a href=\"https://colab.research.google.com/github/sathwikakonduru/11239A049_DAA_LAB/blob/main/exp9.ipynb\" target=\"_parent\"><img src=\"https://colab.research.google.com/assets/colab-badge.svg\" alt=\"Open In Colab\"/></a>"
      ]
    },
    {
      "cell_type": "code",
      "execution_count": 1,
      "metadata": {
        "colab": {
          "base_uri": "https://localhost:8080/"
        },
        "id": "D99wgeO3tklt",
        "outputId": "2ca8b051-1ea1-42f4-cd57-a822202d1093"
      },
      "outputs": [
        {
          "output_type": "stream",
          "name": "stdout",
          "text": [
            "Approximate Vertex Cover: {0, 1, 2, 3}\n",
            "Size of cover: 4\n"
          ]
        }
      ],
      "source": [
        "def approx_vertex_cover(graph):\n",
        "    visited_edges = set()\n",
        "    vertex_cover = set()\n",
        "    for u in graph:\n",
        "        for v in graph[u]:\n",
        "            if (u, v) not in visited_edges and (v, u) not in visited_edges:\n",
        "                vertex_cover.add(u)\n",
        "                vertex_cover.add(v)\n",
        "                for neighbor in graph[u]:\n",
        "                    visited_edges.add((u, neighbor))\n",
        "                    visited_edges.add((neighbor, u))\n",
        "                for neighbor in graph[v]:\n",
        "                    visited_edges.add((v, neighbor))\n",
        "                    visited_edges.add((neighbor, v))\n",
        "                break\n",
        "    return vertex_cover\n",
        "graph = {\n",
        "    0: [1, 2],\n",
        "    1: [0, 2],\n",
        "    2: [0, 1, 3],\n",
        "    3: [2, 4],\n",
        "    4: [3]\n",
        "}\n",
        "\n",
        "vertex_cover = approx_vertex_cover(graph)\n",
        "print(\"Approximate Vertex Cover:\", vertex_cover)\n",
        "print(\"Size of cover:\", len(vertex_cover))"
      ]
    }
  ]
}