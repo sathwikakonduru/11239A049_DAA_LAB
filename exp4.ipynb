{
  "nbformat": 4,
  "nbformat_minor": 0,
  "metadata": {
    "colab": {
      "provenance": [],
      "authorship_tag": "ABX9TyMQXGUqJ4h0choKgSd6b/kX",
      "include_colab_link": true
    },
    "kernelspec": {
      "name": "python3",
      "display_name": "Python 3"
    },
    "language_info": {
      "name": "python"
    }
  },
  "cells": [
    {
      "cell_type": "markdown",
      "metadata": {
        "id": "view-in-github",
        "colab_type": "text"
      },
      "source": [
        "<a href=\"https://colab.research.google.com/github/sathwikakonduru/11239A049_DAA_LAB/blob/main/exp4.ipynb\" target=\"_parent\"><img src=\"https://colab.research.google.com/assets/colab-badge.svg\" alt=\"Open In Colab\"/></a>"
      ]
    },
    {
      "cell_type": "code",
      "execution_count": 1,
      "metadata": {
        "colab": {
          "base_uri": "https://localhost:8080/"
        },
        "id": "OLBJMG_MqSpK",
        "outputId": "bc441923-f42a-4ac7-a98c-aefa2b78db57"
      },
      "outputs": [
        {
          "output_type": "stream",
          "name": "stdout",
          "text": [
            "Maximum value in knapsack: 240.0\n",
            "\n",
            "Items taken (Weight, Value, Fraction):\n",
            "Weight: 10, Value: 60, Fraction: 1.0\n",
            "Weight: 20, Value: 100, Fraction: 1.0\n",
            "Weight: 20, Value: 80.0, Fraction: 0.6666666666666666\n"
          ]
        }
      ],
      "source": [
        "class Item:\n",
        "    def __init__(self, value, weight):\n",
        "        self.value = value\n",
        "        self.weight = weight\n",
        "        self.ratio = value / weight\n",
        "def fractional_knapsack(capacity, items):\n",
        "    items.sort(key=lambda x: x.ratio, reverse=True)\n",
        "    total_value = 0.0\n",
        "    result = []\n",
        "    for item in items:\n",
        "        if capacity >= item.weight:\n",
        "            capacity -= item.weight\n",
        "            total_value += item.value\n",
        "            result.append((item.weight, item.value, 1.0))\n",
        "        else:\n",
        "            fraction = capacity / item.weight\n",
        "            total_value += item.value * fraction\n",
        "            result.append((capacity, item.value * fraction, fraction))\n",
        "            break\n",
        "    return total_value, result\n",
        "items = [Item(60, 10), Item(100, 20), Item(120, 30)]\n",
        "capacity = 50\n",
        "max_value, taken_items = fractional_knapsack(capacity, items)\n",
        "print(\"Maximum value in knapsack:\", max_value)\n",
        "print(\"\\nItems taken (Weight, Value, Fraction):\")\n",
        "for w, v, f in taken_items:\n",
        "    print(f\"Weight: {w}, Value: {v}, Fraction: {f}\")"
      ]
    }
  ]
}